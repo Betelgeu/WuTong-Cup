{
 "cells": [
  {
   "cell_type": "code",
   "execution_count": 1,
   "metadata": {},
   "outputs": [],
   "source": [
    "import pandas as pd"
   ]
  },
  {
   "cell_type": "code",
   "execution_count": 2,
   "metadata": {},
   "outputs": [
    {
     "name": "stderr",
     "output_type": "stream",
     "text": [
      "/var/folders/4q/6dp0mwtx3ns522q3t7kkc6yc0000gn/T/ipykernel_65202/883271930.py:7: FutureWarning: In a future version of pandas all arguments of StringMethods.rsplit except for the argument 'pat' will be keyword-only.\n",
      "  df_new['日期时间'] = pd.to_datetime(df['操作时间'].str.rsplit(' ', 1, expand=True)[0], format=data_time_format)\n"
     ]
    },
    {
     "data": {
      "text/html": [
       "<div>\n",
       "<style scoped>\n",
       "    .dataframe tbody tr th:only-of-type {\n",
       "        vertical-align: middle;\n",
       "    }\n",
       "\n",
       "    .dataframe tbody tr th {\n",
       "        vertical-align: top;\n",
       "    }\n",
       "\n",
       "    .dataframe thead th {\n",
       "        text-align: right;\n",
       "    }\n",
       "</style>\n",
       "<table border=\"1\" class=\"dataframe\">\n",
       "  <thead>\n",
       "    <tr style=\"text-align: right;\">\n",
       "      <th></th>\n",
       "      <th>日期时间</th>\n",
       "      <th>账号</th>\n",
       "      <th>机构</th>\n",
       "      <th>操作内容</th>\n",
       "      <th>源IP</th>\n",
       "    </tr>\n",
       "  </thead>\n",
       "  <tbody>\n",
       "    <tr>\n",
       "      <th>0</th>\n",
       "      <td>2023-05-31 23:01:44</td>\n",
       "      <td>dc57ae05-2e96-4866-bffe-501deb9ffb01</td>\n",
       "      <td>产品运营中心</td>\n",
       "      <td>访问智能家居日报表模块</td>\n",
       "      <td>10.136.14.86</td>\n",
       "    </tr>\n",
       "    <tr>\n",
       "      <th>1</th>\n",
       "      <td>2023-05-31 23:01:00</td>\n",
       "      <td>dc57ae05-2e96-4866-bffe-501deb9ffb01</td>\n",
       "      <td>产品运营中心</td>\n",
       "      <td>访问智能家居质量日报模块</td>\n",
       "      <td>10.136.14.86</td>\n",
       "    </tr>\n",
       "    <tr>\n",
       "      <th>2</th>\n",
       "      <td>2023-05-31 23:00:52</td>\n",
       "      <td>dc57ae05-2e96-4866-bffe-501deb9ffb01</td>\n",
       "      <td>产品运营中心</td>\n",
       "      <td>访问首页模块</td>\n",
       "      <td>10.136.14.86</td>\n",
       "    </tr>\n",
       "    <tr>\n",
       "      <th>3</th>\n",
       "      <td>2023-05-31 23:00:51</td>\n",
       "      <td>dc57ae05-2e96-4866-bffe-501deb9ffb01</td>\n",
       "      <td>产品运营中心</td>\n",
       "      <td>用户登陆</td>\n",
       "      <td>10.136.14.86</td>\n",
       "    </tr>\n",
       "    <tr>\n",
       "      <th>4</th>\n",
       "      <td>2023-05-31 23:00:10</td>\n",
       "      <td>dc57ae05-2e96-4866-bffe-501deb9ffb01</td>\n",
       "      <td>产品运营中心</td>\n",
       "      <td>用户登陆</td>\n",
       "      <td>10.136.14.86</td>\n",
       "    </tr>\n",
       "    <tr>\n",
       "      <th>...</th>\n",
       "      <td>...</td>\n",
       "      <td>...</td>\n",
       "      <td>...</td>\n",
       "      <td>...</td>\n",
       "      <td>...</td>\n",
       "    </tr>\n",
       "    <tr>\n",
       "      <th>109864</th>\n",
       "      <td>2023-05-01 08:22:54</td>\n",
       "      <td>1c7cc983-5870-4892-af7b-c06a86ce59d7</td>\n",
       "      <td>延安全市</td>\n",
       "      <td>用户登陆</td>\n",
       "      <td>10.136.50.122</td>\n",
       "    </tr>\n",
       "    <tr>\n",
       "      <th>109865</th>\n",
       "      <td>2023-05-01 08:22:55</td>\n",
       "      <td>1c7cc983-5870-4892-af7b-c06a86ce59d7</td>\n",
       "      <td>延安全市</td>\n",
       "      <td>访问首页模块</td>\n",
       "      <td>10.136.50.122</td>\n",
       "    </tr>\n",
       "    <tr>\n",
       "      <th>109866</th>\n",
       "      <td>2023-05-01 08:21:08</td>\n",
       "      <td>29527d9c-1b55-4121-9450-1acc95dbaa62</td>\n",
       "      <td>榆林全市</td>\n",
       "      <td>访问5GSA驻留比模块</td>\n",
       "      <td>10.136.71.74</td>\n",
       "    </tr>\n",
       "    <tr>\n",
       "      <th>109867</th>\n",
       "      <td>2023-05-01 08:21:02</td>\n",
       "      <td>29527d9c-1b55-4121-9450-1acc95dbaa62</td>\n",
       "      <td>榆林全市</td>\n",
       "      <td>访问首页模块</td>\n",
       "      <td>10.136.71.74</td>\n",
       "    </tr>\n",
       "    <tr>\n",
       "      <th>109868</th>\n",
       "      <td>2023-05-01 08:21:01</td>\n",
       "      <td>29527d9c-1b55-4121-9450-1acc95dbaa62</td>\n",
       "      <td>榆林全市</td>\n",
       "      <td>用户登陆</td>\n",
       "      <td>10.136.71.74</td>\n",
       "    </tr>\n",
       "  </tbody>\n",
       "</table>\n",
       "<p>109869 rows × 5 columns</p>\n",
       "</div>"
      ],
      "text/plain": [
       "                      日期时间                                    账号      机构  \\\n",
       "0      2023-05-31 23:01:44  dc57ae05-2e96-4866-bffe-501deb9ffb01  产品运营中心   \n",
       "1      2023-05-31 23:01:00  dc57ae05-2e96-4866-bffe-501deb9ffb01  产品运营中心   \n",
       "2      2023-05-31 23:00:52  dc57ae05-2e96-4866-bffe-501deb9ffb01  产品运营中心   \n",
       "3      2023-05-31 23:00:51  dc57ae05-2e96-4866-bffe-501deb9ffb01  产品运营中心   \n",
       "4      2023-05-31 23:00:10  dc57ae05-2e96-4866-bffe-501deb9ffb01  产品运营中心   \n",
       "...                    ...                                   ...     ...   \n",
       "109864 2023-05-01 08:22:54  1c7cc983-5870-4892-af7b-c06a86ce59d7    延安全市   \n",
       "109865 2023-05-01 08:22:55  1c7cc983-5870-4892-af7b-c06a86ce59d7    延安全市   \n",
       "109866 2023-05-01 08:21:08  29527d9c-1b55-4121-9450-1acc95dbaa62    榆林全市   \n",
       "109867 2023-05-01 08:21:02  29527d9c-1b55-4121-9450-1acc95dbaa62    榆林全市   \n",
       "109868 2023-05-01 08:21:01  29527d9c-1b55-4121-9450-1acc95dbaa62    榆林全市   \n",
       "\n",
       "                操作内容            源IP  \n",
       "0        访问智能家居日报表模块   10.136.14.86  \n",
       "1       访问智能家居质量日报模块   10.136.14.86  \n",
       "2             访问首页模块   10.136.14.86  \n",
       "3               用户登陆   10.136.14.86  \n",
       "4               用户登陆   10.136.14.86  \n",
       "...              ...            ...  \n",
       "109864          用户登陆  10.136.50.122  \n",
       "109865        访问首页模块  10.136.50.122  \n",
       "109866   访问5GSA驻留比模块   10.136.71.74  \n",
       "109867        访问首页模块   10.136.71.74  \n",
       "109868          用户登陆   10.136.71.74  \n",
       "\n",
       "[109869 rows x 5 columns]"
      ]
     },
     "execution_count": 2,
     "metadata": {},
     "output_type": "execute_result"
    }
   ],
   "source": [
    "df = pd.read_csv('data.csv')\n",
    "df_new = pd.DataFrame()\n",
    "\n",
    "data_time_format = \"%d-%m月 -%y %H.%M.%S.%f\"\n",
    "\n",
    "# 拆分出时间和上下午\n",
    "df_new['日期时间'] = pd.to_datetime(df['操作时间'].str.rsplit(' ', 1, expand=True)[0], format=data_time_format)\n",
    "\n",
    "# 添加12小时给下午的日期时间\n",
    "pm_rows = df['操作时间'].str.endswith(\"下午\")\n",
    "df_new.loc[pm_rows, '日期时间'] += pd.to_timedelta(12, unit='h')\n",
    "\n",
    "df_new['账号'] = df['从账号'].copy()\n",
    "df_new['机构'] = df['机构'].copy()\n",
    "\n",
    "df_new['操作内容'] = df['操作内容'].str.slice(36, None)\n",
    "\n",
    "\n",
    "\n",
    "df_new['源IP'] = df['源IP'].copy()\n",
    "\n",
    "# del df\n",
    "\n",
    "df_new\n"
   ]
  },
  {
   "cell_type": "markdown",
   "metadata": {},
   "source": [
    "数据预处理：\n",
    "1. 上午时间不变，下午的时间+12\n",
    "2. 时间里的毫秒去掉\n",
    "3. 时间读取到pandas内 dates = pd.to_datetime(date_strings, format=\"%d-%m月 -%y %H.%M.%S.%f\")\n",
    "4. 因为数据只给了同一个月份的，暂且先不考虑跨月和跨年，先考虑跨日\n",
    "5. 操作内容前缀去掉"
   ]
  },
  {
   "cell_type": "code",
   "execution_count": 3,
   "metadata": {},
   "outputs": [],
   "source": [
    "class DataProcess:\n",
    "    def __init__(self, data: pd.DataFrame) -> None:\n",
    "        self.data = data\n",
    "    \n",
    "    def process(self):\n",
    "        self.data = self.data.sort_values('日期时间')\n",
    "        return self.data\n"
   ]
  },
  {
   "cell_type": "markdown",
   "metadata": {},
   "source": [
    "分别定义五个类：\n",
    "\n",
    "业务高频访问：为每一个业务维护一个字典，{账户:访问次数, 账户:访问次数……}，存储不同账号访问的次数，每隔1分钟清零，字典值超过5打上业务高频访问标签。\n",
    "\n",
    "账号复用：为每一个账号维护一个集合，保存此账号每次登录时的ip和时间，两分钟内如果集合len>=3，即账号复用，每隔2分钟清零。\n",
    "\n",
    "非常用IP访问：TODO:这个是否要一次读完全部日志？一条一条读无法判断之后还会不会来。\n",
    "\n",
    "非工作时间访问：不在8:00~19:00之间的日志都是。\n",
    "\n",
    "登录异常： 为每个账号维护一个字典，记录访问次数，字典值>=8打上登录异常，一分钟清零\n",
    "\n",
    "         为每个账号维护一个集合，保存此账号登录的ip，一分钟内若集合len>=2视为登录异常\n",
    "\n",
    "---\n",
    "\n",
    "\n",
    "清零操作：每次读到一行数据，如果是一分钟清零，如果新数据的分钟数 = 原来数据分钟数+1，将原数据结构清零。\n",
    "\n",
    "         两分钟清零就是如果读到了新数据分钟数 = min(原始数据分钟数)+2\n",
    "\n",
    "\n",
    "\n",
    "优化空间：\n",
    "1. 五个操作共同维护数据结构，{账号1:{访问次数:{}}, 账号2：{}} \n",
    "2. 登录异常1分钟2个ip和2分钟三个ip的逻辑能不能合在一起，只用一个字典来处理。\n",
    "3. \n",
    "\n",
    "为了减少损耗，一次读取的时候同时进行五个操作，因此类里的每个detection方法读取的参数是一行Series"
   ]
  },
  {
   "cell_type": "markdown",
   "metadata": {},
   "source": [
    "业务高频访问"
   ]
  },
  {
   "cell_type": "code",
   "execution_count": null,
   "metadata": {},
   "outputs": [],
   "source": [
    "class HighFrequencyAccess:\n",
    "    def __init__(self) -> None:\n",
    "        pass\n",
    "\n",
    "    def detection(self) -> int:\n",
    "        pass"
   ]
  },
  {
   "cell_type": "markdown",
   "metadata": {},
   "source": [
    "账号复用"
   ]
  },
  {
   "cell_type": "code",
   "execution_count": 4,
   "metadata": {},
   "outputs": [],
   "source": [
    "class AccountReuse:\n",
    "    def __init__(self) -> None:\n",
    "        self.account_data = {}\n",
    "        self.last_interval = None\n",
    "\n",
    "    # detection()每次检查一条数据, for循环交给外部\n",
    "    def detection(self, row):\n",
    "        account = row['账号']\n",
    "        ip = row['源IP']\n",
    "        timestamp = row['日期时间']\n",
    "\n",
    "        # 处理新账户\n",
    "        if account not in self.account_data:\n",
    "            self.account_data[account] = {'ips': set()}\n",
    "        \n",
    "        # 计算当前时间所在的时间区间\n",
    "        current_interval = timestamp.floor('2T')  # 将时间戳向下取整到最近的两分钟时间区间\n",
    "        # 如果是新的时间区间，清空account_data\n",
    "        if current_interval != self.last_interval:\n",
    "           self.account_data = {}\n",
    "           self.last_interval = current_interval\n",
    "\n",
    "        self.account_data[account]['ips'].add(ip)\n",
    "\n",
    "        if len(self.account_data[account]['ips']) >= 3:\n",
    "            print(f\"账号 {account} 在时间 {timestamp} 存在账号复用行为\")"
   ]
  },
  {
   "cell_type": "markdown",
   "metadata": {},
   "source": [
    "非常用IP访问"
   ]
  },
  {
   "cell_type": "code",
   "execution_count": 8,
   "metadata": {},
   "outputs": [],
   "source": [
    "class UncommonIp:\n",
    "    def __init__(self):\n",
    "        self.account_data = {}\n",
    "\n",
    "    def detection(self, row):\n",
    "            account = row['账号']\n",
    "            ip = row['源IP']\n",
    "            timestamp = row['日期时间']\n",
    "\n",
    "            if account not in self.account_data:\n",
    "                self.account_data[account] = {'ips_counts': {}, 'total_ops': 0}\n",
    "            if ip not in self.account_data[account]['ips_counts']:\n",
    "                self.account_data[account]['ips_counts'][ip] = 0\n",
    "            else:\n",
    "                self.account_data[account]['ips_counts'][ip] += 1\n",
    "            self.account_data[account]['total_ops'] += 1\n",
    "\n",
    "            if self.account_data[account]['total_ops'] > 100:\n",
    "                uncommon_ips = [ip for ip, count in self.account_data[account]['ips_counts'].items() if count < 5]\n",
    "                if len(uncommon_ips) > 0:\n",
    "                    print(f\"账号 {account} 在时间 {timestamp} 存在异常IP {uncommon_ips}\")"
   ]
  },
  {
   "cell_type": "markdown",
   "metadata": {},
   "source": [
    "非工作时间访问"
   ]
  },
  {
   "cell_type": "code",
   "execution_count": null,
   "metadata": {},
   "outputs": [],
   "source": [
    "class OutOfHoursAccess:\n",
    "    def __init__(self) -> None:\n",
    "        pass\n",
    "\n",
    "    def detection(self, data: pd.core.series.Series) -> int:\n",
    "        pass"
   ]
  },
  {
   "cell_type": "markdown",
   "metadata": {},
   "source": [
    "登录异常"
   ]
  },
  {
   "cell_type": "code",
   "execution_count": null,
   "metadata": {},
   "outputs": [],
   "source": [
    "class LoginException:\n",
    "    def __init__(self) -> None:\n",
    "        pass\n",
    "\n",
    "    def detection(self) -> int:\n",
    "        pass"
   ]
  }
 ],
 "metadata": {
  "kernelspec": {
   "display_name": "db",
   "language": "python",
   "name": "python3"
  },
  "language_info": {
   "codemirror_mode": {
    "name": "ipython",
    "version": 3
   },
   "file_extension": ".py",
   "mimetype": "text/x-python",
   "name": "python",
   "nbconvert_exporter": "python",
   "pygments_lexer": "ipython3",
   "version": "3.10.12"
  }
 },
 "nbformat": 4,
 "nbformat_minor": 2
}
