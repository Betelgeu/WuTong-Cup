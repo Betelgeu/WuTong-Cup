{
 "cells": [
  {
   "cell_type": "code",
   "execution_count": 2,
   "metadata": {},
   "outputs": [],
   "source": [
    "import pandas as pd"
   ]
  },
  {
   "cell_type": "markdown",
   "metadata": {},
   "source": [
    "数据预处理：\n",
    "1. 上午时间不变，下午的时间+12\n",
    "2. 时间里的毫秒去掉\n",
    "3. 时间读取到pandas内 dates = pd.to_datetime(date_strings, format=\"%d-%m月 -%y %H.%M.%S.%f\")\n",
    "4. 因为数据只给了同一个月份的，暂且先不考虑跨月和跨年，先考虑跨日\n",
    "5. 操作内容前缀去掉"
   ]
  },
  {
   "cell_type": "code",
   "execution_count": 6,
   "metadata": {},
   "outputs": [
    {
     "data": {
      "text/html": [
       "<div>\n",
       "<style scoped>\n",
       "    .dataframe tbody tr th:only-of-type {\n",
       "        vertical-align: middle;\n",
       "    }\n",
       "\n",
       "    .dataframe tbody tr th {\n",
       "        vertical-align: top;\n",
       "    }\n",
       "\n",
       "    .dataframe thead th {\n",
       "        text-align: right;\n",
       "    }\n",
       "</style>\n",
       "<table border=\"1\" class=\"dataframe\">\n",
       "  <thead>\n",
       "    <tr style=\"text-align: right;\">\n",
       "      <th></th>\n",
       "      <th>日期时间</th>\n",
       "      <th>账号</th>\n",
       "      <th>机构</th>\n",
       "      <th>操作内容</th>\n",
       "      <th>源IP</th>\n",
       "    </tr>\n",
       "  </thead>\n",
       "  <tbody>\n",
       "    <tr>\n",
       "      <th>109868</th>\n",
       "      <td>2023-05-01 08:21:01</td>\n",
       "      <td>29527d9c-1b55-4121-9450-1acc95dbaa62</td>\n",
       "      <td>榆林全市</td>\n",
       "      <td>用户登陆</td>\n",
       "      <td>10.136.71.74</td>\n",
       "    </tr>\n",
       "    <tr>\n",
       "      <th>109867</th>\n",
       "      <td>2023-05-01 08:21:02</td>\n",
       "      <td>29527d9c-1b55-4121-9450-1acc95dbaa62</td>\n",
       "      <td>榆林全市</td>\n",
       "      <td>访问首页模块</td>\n",
       "      <td>10.136.71.74</td>\n",
       "    </tr>\n",
       "    <tr>\n",
       "      <th>109866</th>\n",
       "      <td>2023-05-01 08:21:08</td>\n",
       "      <td>29527d9c-1b55-4121-9450-1acc95dbaa62</td>\n",
       "      <td>榆林全市</td>\n",
       "      <td>访问5GSA驻留比模块</td>\n",
       "      <td>10.136.71.74</td>\n",
       "    </tr>\n",
       "    <tr>\n",
       "      <th>109864</th>\n",
       "      <td>2023-05-01 08:22:54</td>\n",
       "      <td>1c7cc983-5870-4892-af7b-c06a86ce59d7</td>\n",
       "      <td>延安全市</td>\n",
       "      <td>用户登陆</td>\n",
       "      <td>10.136.50.122</td>\n",
       "    </tr>\n",
       "    <tr>\n",
       "      <th>109865</th>\n",
       "      <td>2023-05-01 08:22:55</td>\n",
       "      <td>1c7cc983-5870-4892-af7b-c06a86ce59d7</td>\n",
       "      <td>延安全市</td>\n",
       "      <td>访问首页模块</td>\n",
       "      <td>10.136.50.122</td>\n",
       "    </tr>\n",
       "    <tr>\n",
       "      <th>...</th>\n",
       "      <td>...</td>\n",
       "      <td>...</td>\n",
       "      <td>...</td>\n",
       "      <td>...</td>\n",
       "      <td>...</td>\n",
       "    </tr>\n",
       "    <tr>\n",
       "      <th>5</th>\n",
       "      <td>2023-05-31 23:00:11</td>\n",
       "      <td>dc57ae05-2e96-4866-bffe-501deb9ffb01</td>\n",
       "      <td>产品运营中心</td>\n",
       "      <td>访问首页模块</td>\n",
       "      <td>10.136.14.86</td>\n",
       "    </tr>\n",
       "    <tr>\n",
       "      <th>3</th>\n",
       "      <td>2023-05-31 23:00:51</td>\n",
       "      <td>dc57ae05-2e96-4866-bffe-501deb9ffb01</td>\n",
       "      <td>产品运营中心</td>\n",
       "      <td>用户登陆</td>\n",
       "      <td>10.136.14.86</td>\n",
       "    </tr>\n",
       "    <tr>\n",
       "      <th>2</th>\n",
       "      <td>2023-05-31 23:00:52</td>\n",
       "      <td>dc57ae05-2e96-4866-bffe-501deb9ffb01</td>\n",
       "      <td>产品运营中心</td>\n",
       "      <td>访问首页模块</td>\n",
       "      <td>10.136.14.86</td>\n",
       "    </tr>\n",
       "    <tr>\n",
       "      <th>1</th>\n",
       "      <td>2023-05-31 23:01:00</td>\n",
       "      <td>dc57ae05-2e96-4866-bffe-501deb9ffb01</td>\n",
       "      <td>产品运营中心</td>\n",
       "      <td>访问智能家居质量日报模块</td>\n",
       "      <td>10.136.14.86</td>\n",
       "    </tr>\n",
       "    <tr>\n",
       "      <th>0</th>\n",
       "      <td>2023-05-31 23:01:44</td>\n",
       "      <td>dc57ae05-2e96-4866-bffe-501deb9ffb01</td>\n",
       "      <td>产品运营中心</td>\n",
       "      <td>访问智能家居日报表模块</td>\n",
       "      <td>10.136.14.86</td>\n",
       "    </tr>\n",
       "  </tbody>\n",
       "</table>\n",
       "<p>109869 rows × 5 columns</p>\n",
       "</div>"
      ],
      "text/plain": [
       "                      日期时间                                    账号      机构  \\\n",
       "109868 2023-05-01 08:21:01  29527d9c-1b55-4121-9450-1acc95dbaa62    榆林全市   \n",
       "109867 2023-05-01 08:21:02  29527d9c-1b55-4121-9450-1acc95dbaa62    榆林全市   \n",
       "109866 2023-05-01 08:21:08  29527d9c-1b55-4121-9450-1acc95dbaa62    榆林全市   \n",
       "109864 2023-05-01 08:22:54  1c7cc983-5870-4892-af7b-c06a86ce59d7    延安全市   \n",
       "109865 2023-05-01 08:22:55  1c7cc983-5870-4892-af7b-c06a86ce59d7    延安全市   \n",
       "...                    ...                                   ...     ...   \n",
       "5      2023-05-31 23:00:11  dc57ae05-2e96-4866-bffe-501deb9ffb01  产品运营中心   \n",
       "3      2023-05-31 23:00:51  dc57ae05-2e96-4866-bffe-501deb9ffb01  产品运营中心   \n",
       "2      2023-05-31 23:00:52  dc57ae05-2e96-4866-bffe-501deb9ffb01  产品运营中心   \n",
       "1      2023-05-31 23:01:00  dc57ae05-2e96-4866-bffe-501deb9ffb01  产品运营中心   \n",
       "0      2023-05-31 23:01:44  dc57ae05-2e96-4866-bffe-501deb9ffb01  产品运营中心   \n",
       "\n",
       "                操作内容            源IP  \n",
       "109868          用户登陆   10.136.71.74  \n",
       "109867        访问首页模块   10.136.71.74  \n",
       "109866   访问5GSA驻留比模块   10.136.71.74  \n",
       "109864          用户登陆  10.136.50.122  \n",
       "109865        访问首页模块  10.136.50.122  \n",
       "...              ...            ...  \n",
       "5             访问首页模块   10.136.14.86  \n",
       "3               用户登陆   10.136.14.86  \n",
       "2             访问首页模块   10.136.14.86  \n",
       "1       访问智能家居质量日报模块   10.136.14.86  \n",
       "0        访问智能家居日报表模块   10.136.14.86  \n",
       "\n",
       "[109869 rows x 5 columns]"
      ]
     },
     "execution_count": 6,
     "metadata": {},
     "output_type": "execute_result"
    }
   ],
   "source": [
    "class DataProcess:\n",
    "    def __init__(self, path: str) -> None:\n",
    "        self.data = pd.read_csv(path)\n",
    "    \n",
    "    def process(self):\n",
    "        self.data = self._data_process(self.data)\n",
    "        return self.data\n",
    "    \n",
    "    @staticmethod\n",
    "    def _data_process(df: pd.DataFrame):\n",
    "        df_new = pd.DataFrame()\n",
    "        data_time_format = \"%d-%m月 -%y %H.%M.%S.%f\"\n",
    "        # 拆分出时间和上下午\n",
    "        df_new['日期时间'] = pd.to_datetime(df['操作时间'].str.rsplit(' ', n=1, expand=True)[0], format=data_time_format)\n",
    "        # 添加12小时给下午的日期时间\n",
    "        pm_rows = df['操作时间'].str.endswith(\"下午\")\n",
    "        time_condition = (df_new['日期时间'].dt.hour != 12)\n",
    "        df_new.loc[pm_rows & time_condition, '日期时间'] += pd.to_timedelta(12, unit='h')\n",
    "\n",
    "        df_new['账号'] = df['从账号'].copy()\n",
    "        df_new['机构'] = df['机构'].copy()\n",
    "        df_new['操作内容'] = df['操作内容'].str.slice(36, None).str.strip()\n",
    "        df_new['源IP'] = df['源IP'].copy()\n",
    "        df_new = df_new.sort_values(by='日期时间', ascending=True)\n",
    "\n",
    "        df_new.to_csv('data_process.csv')\n",
    "\n",
    "        return df_new\n",
    "\n",
    "df = DataProcess('data.csv').process()\n",
    "df"
   ]
  },
  {
   "cell_type": "markdown",
   "metadata": {},
   "source": [
    "分别定义五个类：\n",
    "\n",
    "业务高频访问：为每一个业务维护一个字典，{账户:访问次数, 账户:访问次数……}，存储不同账号访问的次数，每隔1分钟清零，字典值超过5打上业务高频访问标签。\n",
    "\n",
    "账号复用：为每一个账号维护一个集合，保存此账号每次登录时的ip和时间，两分钟内如果集合len>=3，即账号复用，每隔2分钟清零。\n",
    "\n",
    "非常用IP访问：TODO:这个是否要一次读完全部日志？一条一条读无法判断之后还会不会来。\n",
    "\n",
    "非工作时间访问：不在8:00~19:00之间的日志都是。\n",
    "\n",
    "登录异常： 为每个账号维护一个字典，记录访问次数，字典值>=8打上登录异常，一分钟清零\n",
    "\n",
    "         为每个账号维护一个集合，保存此账号登录的ip，一分钟内若集合len>=2视为登录异常\n",
    "\n",
    "---\n",
    "\n",
    "\n",
    "清零操作：每次读到一行数据，如果是一分钟清零，如果新数据的分钟数 = 原来数据分钟数+1，将原数据结构清零。\n",
    "\n",
    "         两分钟清零就是如果读到了新数据分钟数 = min(原始数据分钟数)+2\n",
    "\n",
    "\n",
    "\n",
    "优化空间：\n",
    "1. 五个操作共同维护数据结构，{账号1:{访问次数:{}}, 账号2：{}} \n",
    "2. 登录异常1分钟2个ip和2分钟三个ip的逻辑能不能合在一起，只用一个字典来处理。\n",
    "3. \n",
    "\n",
    "为了减少损耗，一次读取的时候同时进行五个操作，因此类里的每个detection方法读取的参数是一行Series"
   ]
  },
  {
   "cell_type": "markdown",
   "metadata": {},
   "source": [
    "业务高频访问"
   ]
  },
  {
   "cell_type": "code",
   "execution_count": null,
   "metadata": {},
   "outputs": [],
   "source": [
    "from datetime import timedelta\n",
    "\n",
    "\n",
    "class User:\n",
    "    __slots__ = ('time', 'business')\n",
    "    def __init__(self,timestamp):\n",
    "        self.time=timestamp\n",
    "        self.business={}\n",
    "\n",
    "\n",
    "class HighFrequencyAccess:\n",
    "    def __init__(self) -> None:\n",
    "        self.user_dict = {}\n",
    "\n",
    "    def detection(self,row) -> bool:\n",
    "        user_id= row['账号']\n",
    "        timestamp = row['日期时间']\n",
    "        transaction  = row['操作内容']\n",
    "        if user_id in self.user_dict:\n",
    "            user = self.user_dict[user_id]\n",
    "            if timestamp-user.time >= timedelta(minutes=1) or timestamp.minute!=user.time.minute:\n",
    "                del self.user_dict[user_id]\n",
    "                # 删除之前的数据\n",
    "                self.user_dict[user_id] = User(timestamp)\n",
    "\n",
    "            user = self.user_dict[user_id]\n",
    "        else:\n",
    "            user = User(timestamp)\n",
    "        user.business[transaction] = user.business.get(transaction, 0) + 1\n",
    "        self.user_dict[user_id] = user\n",
    "        \n",
    "        if user.business[transaction]>5:\n",
    "            return True\n",
    "        else :\n",
    "            return False"
   ]
  },
  {
   "cell_type": "markdown",
   "metadata": {},
   "source": [
    "账号复用"
   ]
  },
  {
   "cell_type": "code",
   "execution_count": 7,
   "metadata": {},
   "outputs": [],
   "source": [
    "from datetime import timedelta\n",
    "\n",
    "class AccountReuse:\n",
    "    def __init__(self) -> None:\n",
    "        self.account_data = {}\n",
    "\n",
    "    def detection(self, row):\n",
    "        account = row['账号']\n",
    "        ip = row['源IP']\n",
    "        timestamp = row['日期时间']\n",
    "\n",
    "        # 处理新账户\n",
    "        if account not in self.account_data:\n",
    "            self.account_data[account] = {'ips': set(), 'last_timestamp': timestamp}\n",
    "        \n",
    "        # 每2分钟清空一个ips集合\n",
    "        if (timestamp - self.account_data[account]['last_timestamp']) > timedelta(minutes=2):\n",
    "            self.account_data[account]['ips'] = set()\n",
    "\n",
    "        self.account_data[account]['ips'].add(ip)\n",
    "        self.account_data[account]['last_timestamp'] = timestamp\n",
    "\n",
    "        if len(self.account_data[account]['ips']) >= 3:\n",
    "            print(f\"账号 {account} 在时间 {timestamp} 存在账号复用行为\")"
   ]
  },
  {
   "cell_type": "code",
   "execution_count": 12,
   "metadata": {},
   "outputs": [
    {
     "ename": "TypeError",
     "evalue": "unhashable type: 'Series'",
     "output_type": "error",
     "traceback": [
      "\u001b[1;31m---------------------------------------------------------------------------\u001b[0m",
      "\u001b[1;31mTypeError\u001b[0m                                 Traceback (most recent call last)",
      "\u001b[1;32m~\\AppData\\Local\\Temp\\ipykernel_6372\\2760334092.py\u001b[0m in \u001b[0;36m<module>\u001b[1;34m\u001b[0m\n\u001b[0;32m      1\u001b[0m \u001b[0maccount_reuse\u001b[0m \u001b[1;33m=\u001b[0m \u001b[0mAccountReuse\u001b[0m\u001b[1;33m(\u001b[0m\u001b[1;33m)\u001b[0m\u001b[1;33m\u001b[0m\u001b[1;33m\u001b[0m\u001b[0m\n\u001b[1;32m----> 2\u001b[1;33m \u001b[0maccount_reuse\u001b[0m\u001b[1;33m.\u001b[0m\u001b[0mdetection\u001b[0m\u001b[1;33m(\u001b[0m\u001b[0mdf\u001b[0m\u001b[1;33m)\u001b[0m\u001b[1;33m\u001b[0m\u001b[1;33m\u001b[0m\u001b[0m\n\u001b[0m",
      "\u001b[1;32m~\\AppData\\Local\\Temp\\ipykernel_6372\\3929226541.py\u001b[0m in \u001b[0;36mdetection\u001b[1;34m(self, row)\u001b[0m\n\u001b[0;32m     11\u001b[0m \u001b[1;33m\u001b[0m\u001b[0m\n\u001b[0;32m     12\u001b[0m         \u001b[1;31m# 处理新账户\u001b[0m\u001b[1;33m\u001b[0m\u001b[1;33m\u001b[0m\u001b[1;33m\u001b[0m\u001b[0m\n\u001b[1;32m---> 13\u001b[1;33m         \u001b[1;32mif\u001b[0m \u001b[0maccount\u001b[0m \u001b[1;32mnot\u001b[0m \u001b[1;32min\u001b[0m \u001b[0mself\u001b[0m\u001b[1;33m.\u001b[0m\u001b[0maccount_data\u001b[0m\u001b[1;33m:\u001b[0m\u001b[1;33m\u001b[0m\u001b[1;33m\u001b[0m\u001b[0m\n\u001b[0m\u001b[0;32m     14\u001b[0m             \u001b[0mself\u001b[0m\u001b[1;33m.\u001b[0m\u001b[0maccount_data\u001b[0m\u001b[1;33m[\u001b[0m\u001b[0maccount\u001b[0m\u001b[1;33m]\u001b[0m \u001b[1;33m=\u001b[0m \u001b[1;33m{\u001b[0m\u001b[1;34m'ips'\u001b[0m\u001b[1;33m:\u001b[0m \u001b[0mset\u001b[0m\u001b[1;33m(\u001b[0m\u001b[1;33m)\u001b[0m\u001b[1;33m,\u001b[0m \u001b[1;34m'last_timestamp'\u001b[0m\u001b[1;33m:\u001b[0m \u001b[0mtimestamp\u001b[0m\u001b[1;33m}\u001b[0m\u001b[1;33m\u001b[0m\u001b[1;33m\u001b[0m\u001b[0m\n\u001b[0;32m     15\u001b[0m \u001b[1;33m\u001b[0m\u001b[0m\n",
      "\u001b[1;31mTypeError\u001b[0m: unhashable type: 'Series'"
     ]
    }
   ],
   "source": [
    "account_reuse = AccountReuse()\n",
    "account_reuse.detection(df)"
   ]
  },
  {
   "cell_type": "markdown",
   "metadata": {},
   "source": [
    "非常用IP访问"
   ]
  },
  {
   "cell_type": "code",
   "execution_count": 5,
   "metadata": {},
   "outputs": [],
   "source": [
    "class UserData:\n",
    "    pass\n",
    "\n",
    "\n",
    "class UncommonIp:\n",
    "    def __init__(self):\n",
    "        self.account_data = {}\n",
    "\n",
    "    def detection(self, df):\n",
    "        for index, row in df.iterrows():\n",
    "            account = row['账号']\n",
    "            ip = row['源IP']\n",
    "            timestamp = row['日期时间']\n",
    "\n",
    "            if account not in self.account_data:\n",
    "                self.account_data[account] = {'ips': set(), 'ip_counts': {}, 'total_ops': 0}\n",
    "            \n",
    "            self.account_data[account]['ips'].add(ip)\n",
    "            self.account_data[account]['ip_counts'][ip] = self.account_data[account]['ip_counts'].get(ip, 0) + 1\n",
    "            self.account_data[account]['total_ops'] += 1\n",
    "\n",
    "            if self.account_data[account]['total_ops'] > 100:\n",
    "                uncommon_ips = [ip for ip, count in self.account_data[account].items() if count < 5]\n",
    "                if len(uncommon_ips) > 0:\n",
    "                    print(f\"账号 {account} 在时间 {timestamp} 存在异常IP {uncommon_ips}\")"
   ]
  },
  {
   "cell_type": "code",
   "execution_count": 6,
   "metadata": {},
   "outputs": [
    {
     "ename": "NameError",
     "evalue": "name 'DataProcess' is not defined",
     "output_type": "error",
     "traceback": [
      "\u001b[1;31m---------------------------------------------------------------------------\u001b[0m",
      "\u001b[1;31mNameError\u001b[0m                                 Traceback (most recent call last)",
      "\u001b[1;32m~\\AppData\\Local\\Temp\\ipykernel_6372\\4021620284.py\u001b[0m in \u001b[0;36m<module>\u001b[1;34m\u001b[0m\n\u001b[1;32m----> 1\u001b[1;33m \u001b[0mdf\u001b[0m \u001b[1;33m=\u001b[0m \u001b[0mDataProcess\u001b[0m\u001b[1;33m(\u001b[0m\u001b[0mdf_new\u001b[0m\u001b[1;33m)\u001b[0m\u001b[1;33m.\u001b[0m\u001b[0mprocess\u001b[0m\u001b[1;33m(\u001b[0m\u001b[1;33m)\u001b[0m\u001b[1;33m\u001b[0m\u001b[1;33m\u001b[0m\u001b[0m\n\u001b[0m\u001b[0;32m      2\u001b[0m \u001b[0maccount_reuse\u001b[0m \u001b[1;33m=\u001b[0m \u001b[0mUncommonIp\u001b[0m\u001b[1;33m(\u001b[0m\u001b[1;33m)\u001b[0m\u001b[1;33m\u001b[0m\u001b[1;33m\u001b[0m\u001b[0m\n\u001b[0;32m      3\u001b[0m \u001b[0maccount_reuse\u001b[0m\u001b[1;33m.\u001b[0m\u001b[0mdetection\u001b[0m\u001b[1;33m(\u001b[0m\u001b[0mdf\u001b[0m\u001b[1;33m)\u001b[0m\u001b[1;33m\u001b[0m\u001b[1;33m\u001b[0m\u001b[0m\n",
      "\u001b[1;31mNameError\u001b[0m: name 'DataProcess' is not defined"
     ]
    }
   ],
   "source": [
    "df = DataProcess(df_new).process()\n",
    "account_reuse = UncommonIp()\n",
    "account_reuse.detection(df)"
   ]
  },
  {
   "cell_type": "markdown",
   "metadata": {},
   "source": [
    "✅ 非工作时间访问"
   ]
  },
  {
   "cell_type": "code",
   "execution_count": 51,
   "metadata": {},
   "outputs": [],
   "source": [
    "class OutOfHoursAccess:\n",
    "    def __init__(self, start, end) -> None:\n",
    "        self.start = start\n",
    "        self.end = end\n",
    "\n",
    "    def detection(self, row: pd.core.series.Series) -> bool:\n",
    "        datetime_value = row['日期时间'].time()\n",
    "        # TODO: 19:00:00算不算？\n",
    "        if not (self.start <= datetime_value <= self.end):\n",
    "            # print(f\"Row {row}: {datetime_value} is not in the range.\")\n",
    "            return True\n",
    "        return False\n"
   ]
  },
  {
   "cell_type": "markdown",
   "metadata": {},
   "source": [
    "登录异常"
   ]
  },
  {
   "cell_type": "code",
   "execution_count": null,
   "metadata": {},
   "outputs": [],
   "source": [
    "class LoginException:\n",
    "    def __init__(self) -> None:\n",
    "        pass\n",
    "\n",
    "    def detection(self) -> int:\n",
    "        pass"
   ]
  },
  {
   "cell_type": "markdown",
   "metadata": {},
   "source": [
    "main函数"
   ]
  },
  {
   "cell_type": "code",
   "execution_count": null,
   "metadata": {},
   "outputs": [],
   "source": [
    "# 实例化非工作时间访问检查器\n",
    "start = pd.to_datetime('08:00:00').time()\n",
    "end = pd.to_datetime('19:00:00').time()\n",
    "\n",
    "highfrequency = HighFrequencyAccess()\n",
    "accountreuse = AccountReuse()\n",
    "uncommonip = UncommonIp()\n",
    "outHour = OutOfHoursAccess(start, end)\n",
    "login = LoginException()\n",
    "\n",
    "for i, row in df.iterrows():\n",
    "    outHour.detection(row)"
   ]
  }
 ],
 "metadata": {
  "kernelspec": {
   "display_name": "db",
   "language": "python",
   "name": "python3"
  },
  "language_info": {
   "codemirror_mode": {
    "name": "ipython",
    "version": 3
   },
   "file_extension": ".py",
   "mimetype": "text/x-python",
   "name": "python",
   "nbconvert_exporter": "python",
   "pygments_lexer": "ipython3",
   "version": "3.7.12"
  }
 },
 "nbformat": 4,
 "nbformat_minor": 2
}
